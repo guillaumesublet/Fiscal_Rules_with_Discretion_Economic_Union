{
 "cells": [
  {
   "cell_type": "code",
   "execution_count": 1,
   "metadata": {},
   "outputs": [],
   "source": [
    "import numpy as np\n",
    "import matplotlib.pyplot as plt\n",
    "from matplotlib.ticker import FormatStrFormatter\n",
    "import matplotlib.ticker as ticker\n",
    "from matplotlib import rc\n",
    "rc('font',**{'family':'sans-serif','sans-serif':['Helvetica']})\n",
    "## for Palatino and other serif fonts use:\n",
    "#rc('font',**{'family':'serif','serif':['Palatino']})\n",
    "rc('text', usetex=True)\n",
    "from scipy.optimize import brentq\n",
    "%matplotlib inline\n",
    "\n",
    "import scipy.integrate as integrate\n",
    "from scipy.stats import expon #https://docs.scipy.org/doc/scipy/reference/generated/scipy.stats.expon.html#scipy.stats.expon\n",
    "from scipy.stats import pareto #https://docs.scipy.org/doc/scipy/reference/generated/scipy.stats.pareto.html#scipy.stats.pareto\n",
    "from scipy.stats import weibull_min #https://docs.scipy.org/doc/scipy/reference/generated/scipy.stats.weibull_min.html#scipy.stats.weibull_min"
   ]
  },
  {
   "cell_type": "code",
   "execution_count": 2,
   "metadata": {},
   "outputs": [],
   "source": [
    "import src.Class_FiscRule as CFR"
   ]
  },
  {
   "cell_type": "code",
   "execution_count": 3,
   "metadata": {},
   "outputs": [],
   "source": [
    "#save_results_to = '/Users/guillaumesublet/Dropbox/Economics/Research/RulewDisc/Fiscal_rules_theory/Examples/output/'"
   ]
  },
  {
   "cell_type": "markdown",
   "metadata": {},
   "source": [
    "### Fiscal rule for an economic union $\\rho = 1$"
   ]
  },
  {
   "cell_type": "markdown",
   "metadata": {},
   "source": [
    "Average deficit $\\frac{g - T}{Y}$ for the Euro area pre 1998 is 4.91% over 1995 (7.33%), 1996 (4.36%) and 1997 (3.05%). (OECD data)\n",
    "\n",
    "Average revenue over GDP $\\frac{T}{Y}$ for the Euro area 45.46% over 2002-2019 period.\n",
    "\n",
    "Target is the average deficit $\\frac{g - T}{T} = \\frac{g - T}{Y} \\frac{Y}{T} = \\frac{0.0491}{0.4546} = 0.1080$.\n",
    "\n",
    "Normalize $T = 1$ and target an average spending $g$ to $1.1080$"
   ]
  },
  {
   "cell_type": "code",
   "execution_count": 4,
   "metadata": {},
   "outputs": [],
   "source": [
    "omega = 0.98\n",
    "\n",
    "theta_min = 1\n",
    "theta_max = 4\n",
    "\n",
    "lambda_exp = 3\n",
    "#gamma = lambda_exp * theta_min + 1 # so that the mean of the Pareto and the exponential distributions are the same\n",
    "gamma = 4\n",
    "\n",
    "# Environments\n",
    "    # Low present bias\n",
    "beta = 0.8\n",
    "FR_exp = CFR.FiscRule(omega = omega, dist = 'exponential', lambda_exp = lambda_exp, beta = beta, rho = 1, grid_min = theta_min, grid_max = theta_max)\n",
    "\n",
    "FR_mixture = CFR.FiscRule(omega = omega, dist = 'mixture', gamma = gamma, lambda_exp = lambda_exp, a_mixture  = 0.375, beta = beta, rho = 1, grid_min = theta_min, grid_max = theta_max)\n",
    "FR_truncmixture = CFR.FiscRule(omega = omega, dist = 'trunc_mixture', gamma = gamma, lambda_exp = lambda_exp, a_mixture  = 0.375, beta = beta, rho = 1, grid_min = theta_min, grid_max = theta_max, theta_bar = 4.1)\n",
    "\n",
    "FR_cal = CFR.FiscRule(omega = omega, dist = 'pareto',       gamma = gamma, beta = beta, rho = 1, grid_min = theta_min, grid_max = theta_max)\n",
    "    # Intermediate present bias\n",
    "beta_h = 0.7\n",
    "#FR_high = CFR.FiscRule(beta = beta_h, rho = 1, grid_min = theta_min, grid_max = theta_max, lambda_exp = 3, dist = 'exponential')\n",
    "FR_1 = CFR.FiscRule(omega = omega, dist = 'pareto',       gamma = gamma, beta = beta_h, rho = 1, grid_min = theta_min, grid_max = theta_max)\n",
    "FR_2 = CFR.FiscRule(omega = omega, dist = 'trunc_pareto', gamma = gamma, beta = beta_h, rho = 1, grid_min = theta_min, grid_max = theta_max, theta_bar = 4.1)    "
   ]
  },
  {
   "cell_type": "code",
   "execution_count": 5,
   "metadata": {},
   "outputs": [
    {
     "name": "stdout",
     "output_type": "stream",
     "text": [
      "0.10704419177152968\n",
      "0.10396889986347624\n",
      "0.10473980822390638\n",
      "0.10448403257845618\n"
     ]
    }
   ],
   "source": [
    "print(FR_exp.mean_deficit())\n",
    "print(FR_cal.mean_deficit())\n",
    "print(FR_mixture.mean_deficit())\n",
    "print(FR_truncmixture.mean_deficit())"
   ]
  },
  {
   "cell_type": "code",
   "execution_count": 6,
   "metadata": {},
   "outputs": [
    {
     "name": "stdout",
     "output_type": "stream",
     "text": [
      "1.1135754671957063\n"
     ]
    }
   ],
   "source": [
    "print(FR_exp.discretionary(FR_exp.theta_p(FR_exp.theta_bar)))"
   ]
  },
  {
   "cell_type": "code",
   "execution_count": 7,
   "metadata": {},
   "outputs": [
    {
     "name": "stdout",
     "output_type": "stream",
     "text": [
      "1.3333333333333335\n",
      "1.3333333333333333\n",
      "1.3333333333333333\n",
      "1.3333333333333333\n",
      "1.327251852657103\n",
      "1.3242178305734615\n"
     ]
    }
   ],
   "source": [
    "# check that the mean is the same\n",
    "print(FR_exp.mean_fiscal_need())\n",
    "print(FR_exp.grid_min + 1/ lambda_exp)\n",
    "print(FR_1.mean_fiscal_need())\n",
    "print(gamma/(gamma - 1))\n",
    "print(FR_mixture.mean_fiscal_need())\n",
    "print(FR_truncmixture.mean_fiscal_need())"
   ]
  },
  {
   "cell_type": "code",
   "execution_count": null,
   "metadata": {},
   "outputs": [
    {
     "name": "stdout",
     "output_type": "stream",
     "text": [
      "1.3333333333335056\n",
      "1.3333333333333348\n",
      "1.3240556624326694\n",
      "2.1953986790101996\n",
      "1.5743742821832565\n",
      "1.6096034928789196\n"
     ]
    }
   ],
   "source": [
    "# determine thresholds\n",
    "theta_p = FR_exp.theta_p(FR_exp.theta_bar)\n",
    "print(theta_p)\n",
    "theta_e = FR_mixture.theta_n()\n",
    "print(theta_e)\n",
    "theta_e_tmix = FR_truncmixture.theta_n()\n",
    "print(theta_e_tmix)\n",
    "theta_xp_tmix = FR_truncmixture.theta_xp(FR_truncmixture.theta_bar)\n",
    "print(theta_xp_tmix)\n",
    "theta_x_1 = FR_1.theta_x()\n",
    "print(theta_x_1)\n",
    "theta_x_2 = FR_2.theta_x()\n",
    "print(theta_x_2)\n",
    "theta_xp_2 = FR_2.theta_xp(FR_2.theta_bar)\n",
    "print(theta_xp_2)"
   ]
  },
  {
   "cell_type": "code",
   "execution_count": null,
   "metadata": {},
   "outputs": [],
   "source": [
    "# Allocations\n",
    "    # Exponential\n",
    "discretionary_exp = FR_exp.discretionary_alloc()\n",
    "state_contingent_exp = FR_exp.state_contingent_alloc()\n",
    "costly_disc_exp = FR_exp.costly_disc_alloc()\n",
    "discretionary_cap = FR_exp.disc_cap_alloc(np.inf)\n",
    "\n",
    "    # F truncated weibull\n",
    "discretionary_wei = FR_truncmixture.discretionary_alloc()\n",
    "state_contingent_wei = FR_truncmixture.state_contingent_alloc()\n",
    "costly_disc = FR_truncmixture.costly_disc_alloc()\n",
    "disc_costlydisc_prohib = FR_truncmixture.disc_costlydisc_prohib() #FR_wei.disc_costlydisc_prohib()\n",
    "\n",
    "    # F Weibull\n",
    "discretionary_wei_n = FR_mixture.discretionary_alloc()\n",
    "state_contingent_wei_n = FR_mixture.state_contingent_alloc()\n",
    "costly_disc_n = FR_mixture.costly_disc_alloc()\n",
    "disc_costlydisc_n = FR_mixture.disc_costlydisc()\n",
    "\n",
    "    # Pareto\n",
    "discretionary_1 = FR_1.discretionary_alloc()\n",
    "state_contingent_1 = FR_1.state_contingent_alloc()\n",
    "costly_disc_alloc_1 = FR_1.costly_disc_alloc()\n",
    "exempt_costlydisc = FR_1.exempt_costlydisc()\n",
    "\n",
    "    # Truncated Pareto\n",
    "discretionary_2 = FR_2.discretionary_alloc()\n",
    "state_contingent_2 = FR_2.state_contingent_alloc()\n",
    "costly_disc_alloc_2 = FR_2.costly_disc_alloc()\n",
    "exempt_costlydisc_prohib = FR_2.exempt_costlydisc_prohib()"
   ]
  },
  {
   "cell_type": "code",
   "execution_count": null,
   "metadata": {},
   "outputs": [],
   "source": [
    "# Thresholds for plots\n",
    "theta_p = FR_exp.theta_p(FR_exp.theta_bar)\n",
    "theta_e = FR_truncmixture.theta_n()\n",
    "theta_xp_w = FR_truncmixture.theta_xp(FR_truncmixture.theta_bar)\n",
    "theta_e_n = FR_mixture.theta_n()\n",
    "theta_x_1 = FR_1.theta_x()\n",
    "theta_x_2 = FR_2.theta_x()\n",
    "theta_xp_2 = FR_2.theta_xp(FR_2.theta_bar)"
   ]
  },
  {
   "cell_type": "code",
   "execution_count": null,
   "metadata": {},
   "outputs": [],
   "source": [
    "# Plot\n",
    "fig, axarr = plt.subplot_mosaic([['a)','.'],['b)', 'e)'],['c)', 'd)']], constrained_layout=True, figsize=(10,12))#, sharex=True, sharey=True)\n",
    "\n",
    "\n",
    "\n",
    "axarr['a)'].plot(FR_exp.theta_grid, discretionary_exp, lw=2, alpha=0.6, linestyle='-',label='discretionary', color='gray')        \n",
    "#axarr['a)'].plot(FR_exp.theta_grid, state_contingent_exp, lw=2, alpha=0.6, label='$\\\\theta$-contingent rule', linestyle='--', color='gray')\n",
    "axarr['a)'].plot(FR_exp.theta_grid, costly_disc_exp, lw=1.5, alpha=0.6, linestyle='--', color='gray')\n",
    "axarr['a)'].plot(FR_exp.theta_grid, discretionary_cap, lw=2, alpha=0.6, color='k', label='discretion and cap')\n",
    "\n",
    "axarr['a)'].set_title('Exponential with $\\\\lambda = 3$', loc='right', fontsize=11)\n",
    "axarr['a)'].set(xticks=[FR_exp.grid_min, theta_p, theta_max])\n",
    "axarr['a)'].set_xticklabels([r'$\\underline{\\theta}=1$', '$\\\\theta_p$', r'$\\bar{\\theta}=\\infty$'], fontsize=13)\n",
    "\n",
    "\n",
    "axarr['b)'].plot(FR_truncmixture.theta_grid, discretionary_wei, lw=2, alpha=0.6, linestyle='-', color='gray')\n",
    "#axarr['b)'].plot(FR_wei.theta_grid, state_contingent_wei, lw=2, alpha=0.6, linestyle='--', color='gray')\n",
    "axarr['b)'].plot(FR_truncmixture.theta_grid, costly_disc, lw=1.5, alpha=0.6, linestyle='--', color='gray')\n",
    "axarr['b)'].plot(FR_truncmixture.theta_grid, disc_costlydisc_prohib, lw=2, alpha=0.6, label='discretion, costly discretion and cap', linestyle='-', color='k')\n",
    "\n",
    "axarr['b)'].set_title('Truncated $F_a$', loc='right', fontsize=11)\n",
    "axarr['b)'].set(xticks=[FR_truncmixture.grid_min, theta_e, theta_xp_w, theta_max])\n",
    "axarr['b)'].set_xticklabels([r'$\\underline{\\theta}=1$', '$\\\\theta_n$', '$\\\\theta_{xp}$', r'$\\bar{\\theta}=3$'], fontsize=13)\n",
    "\n",
    "axarr['c)'].plot(FR_mixture.theta_grid, discretionary_wei_n, lw=2, alpha=0.6, linestyle='-',label='discretionary', color='gray')\n",
    "#axarr['c)'].plot(FR_wei_n.theta_grid, state_contingent_wei_n, lw=2, alpha=0.6, linestyle='--', color='gray')\n",
    "axarr['c)'].plot(FR_mixture.theta_grid, costly_disc_n, lw=1.5, alpha=0.6, linestyle='--', color='gray')\n",
    "axarr['c)'].plot(FR_mixture.theta_grid, disc_costlydisc_n, lw=2, alpha=0.6, label='discretion and costly discretion', linestyle='-', color='k')\n",
    "\n",
    "axarr['c)'].set_title('$F_a$', loc='right', fontsize=11)\n",
    "axarr['c)'].set(xticks=[FR_mixture.grid_min, theta_e_n, theta_max])\n",
    "axarr['c)'].set_xticklabels([r'$\\underline{\\theta}=1$', '$\\\\theta_n$', r'$\\bar{\\theta}=\\infty$'], fontsize=13)\n",
    "\n",
    "axarr['d)'].plot(FR_1.theta_grid, discretionary_1, lw=2, alpha=0.6, label='discretionary', linestyle='-', color='gray')\n",
    "#axarr['d)'].plot(FR_1.theta_grid, state_contingent_1, lw=2, alpha=0.6, label='$\\\\theta$-contingent rule', linestyle='--', color='gray')\n",
    "axarr['d)'].plot(FR_1.theta_grid, costly_disc_alloc_1, lw=1.5, alpha=0.6,label='costly discretion', linestyle='--', color='gray')\n",
    "axarr['d)'].plot(FR_1.theta_grid, exempt_costlydisc, lw=2, alpha=0.6, label='exemption and costly discretion', color='k')\n",
    "axarr['d)'].set(xticks=[FR_1.grid_min, theta_x_1, theta_max]) #yticks=[]\n",
    "axarr['d)'].set_xticklabels([r'$\\underline{\\theta}=1$', '$\\\\theta_x$', r'$\\bar{\\theta}=\\infty$'], fontsize=13)\n",
    "\n",
    "axarr['d)'].set_title('Pareto with tail parameter equal to 4', loc='right', fontsize=11)\n",
    "\n",
    "axarr['e)'].plot(FR_2.theta_grid, discretionary_2, lw=2, alpha=0.6, linestyle='-', color='gray')\n",
    "#axarr['e)'].plot(FR_2.theta_grid, state_contingent_2, lw=2, alpha=0.6, linestyle='--', color='gray')\n",
    "axarr['e)'].plot(FR_2.theta_grid, costly_disc_alloc_2, lw=1.5, alpha=0.6, linestyle='--', color='gray')\n",
    "axarr['e)'].plot(FR_2.theta_grid, exempt_costlydisc_prohib, lw=2, alpha=0.6, label='exemption, costly discretion and cap', color='k')\n",
    "axarr['e)'].set(xticks=[FR_2.grid_min, theta_x_2, theta_xp_2, theta_max])\n",
    "axarr['e)'].set_xticklabels([r'$\\underline{\\theta}=1$', '$\\\\theta_x$', '$\\\\theta_{xp}$', r'$\\bar{\\theta}=3$'], fontsize=13)\n",
    "\n",
    "axarr['e)'].set_title('Truncated Pareto with tail parameter equal to 4', loc='right', fontsize=11)\n",
    "\n",
    "axarr['c)'].set_xlabel('fiscal needs', fontsize=12)\n",
    "axarr['d)'].set_xlabel('fiscal needs', fontsize=12)\n",
    "axarr['a)'].set_ylabel('public spending', fontsize=12)\n",
    "axarr['b)'].set_ylabel('public spending', fontsize=12)#, rotation=0)\n",
    "axarr['c)'].set_ylabel('public spending', fontsize=12)#, rotation=0)\n",
    "#axarr['d)'].set_ylabel('$g \\ $ ', fontsize=14, rotation=0)\n",
    "#axarr['e)'].set_ylabel('$g \\ $ ', fontsize=14, rotation=0)\n",
    "\n",
    "ymin=0.95\n",
    "ymax=1.4\n",
    "axarr['a)'].set_ylim([ymin,ymax])\n",
    "axarr['b)'].set_ylim([ymin,ymax])\n",
    "axarr['c)'].set_ylim([ymin,ymax])\n",
    "axarr['d)'].set_ylim([ymin,ymax])\n",
    "axarr['e)'].set_ylim([ymin,ymax])\n",
    "\n",
    "pad = 10\n",
    "axarr['a)'].annotate('Low degree of present bias', xy=(0.5, 1.05), xytext=(0, pad),\n",
    "                xycoords='axes fraction', textcoords='offset points', \n",
    "                fontsize=16, ha='center', va='baseline')\n",
    "axarr['e)'].annotate('Intermediate degree of present bias', xy=(0.5, 1.05), xytext=(0, pad),\n",
    "                xycoords='axes fraction', textcoords='offset points',\n",
    "                fontsize=16, ha='center', va='baseline')\n",
    "\n",
    "axarr['a)'].annotate('$1-F \\ $ log-concave above $\\\\theta_p$', xy=(0, 0.5), xytext=(-axarr['a)'].yaxis.labelpad - pad, 0),\n",
    "                xycoords=axarr['a)'].yaxis.label, textcoords='offset points',\n",
    "                fontsize=16, ha='right', va='center', rotation=90)\n",
    "\n",
    "axarr['b)'].annotate('$1-F \\ $ log-convex then log-concave', xy=(0, 0.5), xytext=(-axarr['b)'].yaxis.labelpad - pad, 0),\n",
    "                xycoords=axarr['b)'].yaxis.label, textcoords='offset points',\n",
    "                fontsize=16, ha='right', va='center', rotation=90)\n",
    "\n",
    "axarr['c)'].annotate('$1-F \\ $ log-convex', xy=(0, 0.5), xytext=(-axarr['c)'].yaxis.labelpad - pad, 0),\n",
    "                xycoords=axarr['c)'].yaxis.label, textcoords='offset points',\n",
    "                fontsize=16, ha='right', va='center', rotation=90)\n",
    "\n",
    "axarr['a)'].axvline(x=theta_p, ymax=0.36, lw=0.3, alpha=0.6, color='k', linestyle=':')\n",
    "axarr['a)'].axhline(y=FR_exp.discretionary(theta_p), xmax=0.16, lw=0.3, alpha=0.6, color='k', linestyle=':')\n",
    "axarr['b)'].axvline(x=theta_e, ymax=0.345, lw=0.3, alpha=0.6, color='k', linestyle=':')\n",
    "axarr['b)'].axhline(y=FR_truncmixture.discretionary(theta_e), xmax=0.155, lw=0.3, alpha=0.6, color='k', linestyle=':')\n",
    "axarr['b)'].axvline(x=theta_xp_w, ymax=0.495, lw=0.3, alpha=0.6, color='k', linestyle=':')\n",
    "axarr['b)'].axhline(y=FR_truncmixture.costly_disc(theta_xp_w), xmax=0.47, lw=0.3, alpha=0.6, color='k', linestyle=':')\n",
    "axarr['c)'].axvline(x=theta_e_n , ymax=0.36, lw=0.3, alpha=0.6, color='k', linestyle=':')\n",
    "axarr['c)'].axhline(y=FR_mixture.discretionary(theta_e_n), xmax=0.14, lw=0.3, alpha=0.6, color='k', linestyle=':')\n",
    "axarr['d)'].axvline(x=theta_x_1, ymax=0.24, lw=0.3, alpha=0.6, color='k', linestyle=':')\n",
    "axarr['e)'].axvline(x=theta_x_2, ymax=0.24, lw=0.3, alpha=0.6, color='k', linestyle=':')\n",
    "axarr['e)'].axvline(x=theta_xp_2, ymax=0.36, lw=0.3, alpha=0.6, color='k', linestyle=':')\n",
    "axarr['e)'].axhline(y=FR_2.costly_disc(theta_xp_2), xmax=0.44, lw=0.3, alpha=0.6, color='k', linestyle=':')\n",
    "\n",
    "#fig.suptitle('Optimal fiscal rule for an economic union with $\\\\rho = 1$', fontsize=16)\n",
    "#plt.savefig(save_results_to + 'Fig2_eu.pdf', dpi = 500)\n",
    "\n",
    "plt.show()"
   ]
  },
  {
   "cell_type": "markdown",
   "metadata": {},
   "source": [
    "### Misc"
   ]
  },
  {
   "cell_type": "code",
   "execution_count": null,
   "metadata": {},
   "outputs": [],
   "source": [
    "discretionary = FR_mixture.discretionary_alloc()\n",
    "costly_disc_exp = FR_exp.costly_disc_alloc()\n",
    "costly_disc = FR_mixture.costly_disc_alloc()\n",
    "costly_disc_trunc = FR_truncmixture.costly_disc_alloc()\n",
    "\n",
    "costly_disc_1 = FR_1.costly_disc_alloc()\n",
    "costly_disc_2 = FR_2.costly_disc_alloc()\n",
    "\n",
    "fig, ax = plt.subplots(figsize=(15,6))\n",
    "ax.plot(FR_mixture.theta_grid, discretionary, lw=5, alpha=0.6, color='k')\n",
    "\n",
    "ax.plot(FR_exp.theta_grid, costly_disc_exp, lw=2, alpha=0.6, linestyle='--', color='b')\n",
    "\n",
    "#ax.plot(FR_1.theta_grid, costly_disc_1, lw=2, alpha=0.6, linestyle=':', color='gray')\n",
    "#ax.plot(FR_2.theta_grid, costly_disc_2, lw=2, alpha=0.6, linestyle=':', color='gray')\n",
    "\n",
    "\n",
    "ax.plot(FR_mixture.theta_grid, costly_disc, lw=2, alpha=0.6, linestyle='--', color='gray')\n",
    "\n",
    "ax.plot(FR_truncmixture.theta_grid, costly_disc_trunc, lw=2, alpha=0.6, linestyle='-', color='gray')\n",
    "\n",
    "plt.show()"
   ]
  },
  {
   "cell_type": "code",
   "execution_count": null,
   "metadata": {},
   "outputs": [],
   "source": [
    "\n",
    "axarr['b)'].yaxis.set_major_formatter(FormatStrFormatter('%.2f'))\n",
    "axarr['c)'].yaxis.set_major_formatter(FormatStrFormatter('%.2f'))\n",
    "axarr['d)'].yaxis.set_major_formatter(FormatStrFormatter('%.2f'))\n",
    "axarr['e)'].yaxis.set_major_formatter(FormatStrFormatter('%.2f'))"
   ]
  },
  {
   "cell_type": "code",
   "execution_count": null,
   "metadata": {},
   "outputs": [],
   "source": []
  }
 ],
 "metadata": {
  "kernelspec": {
   "display_name": "Python 3",
   "language": "python",
   "name": "python3"
  },
  "language_info": {
   "codemirror_mode": {
    "name": "ipython",
    "version": 3
   },
   "file_extension": ".py",
   "mimetype": "text/x-python",
   "name": "python",
   "nbconvert_exporter": "python",
   "pygments_lexer": "ipython3",
   "version": "3.7.4"
  }
 },
 "nbformat": 4,
 "nbformat_minor": 2
}
