{
 "cells": [
  {
   "cell_type": "code",
   "execution_count": 1,
   "metadata": {},
   "outputs": [],
   "source": [
    "import numpy as np\n",
    "import matplotlib.pyplot as plt\n",
    "from matplotlib import rc\n",
    "rc('font',**{'family':'sans-serif','sans-serif':['Helvetica']})\n",
    "## for Palatino and other serif fonts use:\n",
    "#rc('font',**{'family':'serif','serif':['Palatino']})\n",
    "rc('text', usetex=True)\n",
    "from scipy.optimize import brentq\n",
    "%matplotlib inline\n",
    "\n",
    "import scipy.integrate as integrate\n",
    "from scipy.stats import expon #https://docs.scipy.org/doc/scipy/reference/generated/scipy.stats.expon.html#scipy.stats.expon\n",
    "from scipy.stats import pareto #https://docs.scipy.org/doc/scipy/reference/generated/scipy.stats.pareto.html#scipy.stats.pareto\n",
    "from scipy.stats import weibull_min #https://docs.scipy.org/doc/scipy/reference/generated/scipy.stats.weibull_min.html#scipy.stats.weibull_min"
   ]
  },
  {
   "cell_type": "code",
   "execution_count": 2,
   "metadata": {},
   "outputs": [],
   "source": [
    "import src.Class_FiscRule as CFR"
   ]
  },
  {
   "cell_type": "markdown",
   "metadata": {},
   "source": [
    "### Fiscal rule for a small open economy $\\rho = 1/\\beta$"
   ]
  },
  {
   "cell_type": "code",
   "execution_count": 3,
   "metadata": {},
   "outputs": [],
   "source": [
    "theta_min = 1\n",
    "theta_max = 3\n",
    "omega = 0.98\n",
    "\n",
    "# Environments\n",
    "    # Low present bias\n",
    "beta = 0.8\n",
    "FR = CFR.FiscRule(omega = omega, beta = beta, rho = 1/beta, grid_min = theta_min, grid_max = theta_max, grid_size = 200, lambda_exp = 3, dist = 'exponential')\n",
    "    # High present bias\n",
    "beta_h = 0.5\n",
    "FR_high = CFR.FiscRule(omega = omega, beta = beta_h, rho = 1/beta_h, grid_min = theta_min, grid_max = theta_max, lambda_exp = 3, dist = 'exponential')"
   ]
  },
  {
   "cell_type": "code",
   "execution_count": 4,
   "metadata": {},
   "outputs": [
    {
     "name": "stdout",
     "output_type": "stream",
     "text": [
      "0.10704419177152968\n"
     ]
    }
   ],
   "source": [
    "print(FR.mean_deficit())"
   ]
  },
  {
   "cell_type": "code",
   "execution_count": 5,
   "metadata": {},
   "outputs": [],
   "source": [
    "# Allocations\n",
    "    # Low present bias\n",
    "discretionary = FR.discretionary_alloc()\n",
    "state_contingent = FR.state_contingent_alloc()\n",
    "discretionary_cap = FR.disc_cap_alloc(np.inf)\n",
    "\n",
    "    # High present bias\n",
    "discretionary_h = FR_high.discretionary_alloc()\n",
    "state_contingent_h = FR_high.state_contingent_alloc()\n",
    "tight_cap = FR_high.tight_cap_alloc()"
   ]
  },
  {
   "cell_type": "code",
   "execution_count": 6,
   "metadata": {},
   "outputs": [
    {
     "data": {
      "image/png": "[encoded data removed]",
      "text/plain": [
       "<Figure size 1080x360 with 2 Axes>"
      ]
     },
     "metadata": {
      "needs_background": "light"
     },
     "output_type": "display_data"
    }
   ],
   "source": [
    "# Plot        \n",
    "fig, (ax1, ax2) = plt.subplots(1, 2, sharey=False, figsize=(15,5))\n",
    "\n",
    "ax1.plot(FR.theta_grid, discretionary_cap, lw=2, alpha=0.6, color='k') #, label='discretion and cap')\n",
    "ax1.plot(FR.theta_grid, discretionary, lw=2, alpha=0.6, linestyle='-', color='gray')#, label='discretionary'\n",
    "\n",
    "ax2.plot(FR_high.theta_grid, tight_cap, lw=2, alpha=0.6, color='k')# label='tight cap')\n",
    "ax2.plot(FR_high.theta_grid, discretionary_h, lw=2, alpha=0.6, linestyle='-', color='gray')\n",
    "\n",
    "ax1.set_title('Low degree of present bias', fontsize=16)\n",
    "ax2.set_title('High degree of present bias', fontsize=16)\n",
    "ax1.set_xlabel('Fiscal needs', fontsize=12)\n",
    "ax2.set_xlabel('Fiscal needs', fontsize=12)\n",
    "ax1.set_ylabel('Public spending', fontsize=12)\n",
    "ax2.set_ylabel('Public spending', fontsize=12)\n",
    "\n",
    "ax1.set(xticks=[theta_min, FR.theta_p(FR.theta_bar), theta_max])#, yticks=[])\n",
    "ax1.set_xticklabels([r'$\\underline{\\theta}=1$', '$\\\\theta_p$', r'$\\bar{\\theta}=\\infty$'], fontsize=13)\n",
    "ax2.set(xticks=[theta_min, theta_max])#, yticks=[])\n",
    "ax2.set_xticklabels([r'$\\underline{\\theta}=1$', r'$\\bar{\\theta}=\\infty$'], fontsize=13)\n",
    "\n",
    "ymin=0.99\n",
    "ymax=1.41\n",
    "ax1.set_ylim([ymin,ymax])\n",
    "ax2.set_ylim([ymin,ymax])\n",
    "\n",
    "ax1.axvline(x=FR.theta_p(FR.theta_bar), ymax=0.3, lw=0.3, alpha=0.6, color='k', linestyle=':')\n",
    "ax1.axhline(y=FR.discretionary(FR.theta_p(FR.theta_bar)), xmax=0.23, lw=0.3, alpha=0.6, color='k', linestyle=':')\n",
    "\n",
    "#plt.savefig(save_results_to + 'Fig1_soe.pdf', dpi = 300)\n",
    "plt.show()"
   ]
  }
 ],
 "metadata": {
  "kernelspec": {
   "display_name": "Python 3",
   "language": "python",
   "name": "python3"
  },
  "language_info": {
   "codemirror_mode": {
    "name": "ipython",
    "version": 3
   },
   "file_extension": ".py",
   "mimetype": "text/x-python",
   "name": "python",
   "nbconvert_exporter": "python",
   "pygments_lexer": "ipython3",
   "version": "3.8.8"
  }
 },
 "nbformat": 4,
 "nbformat_minor": 2
}
